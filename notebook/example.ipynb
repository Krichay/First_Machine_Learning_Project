{
 "cells": [
  {
   "cell_type": "code",
   "execution_count": 2,
   "metadata": {},
   "outputs": [],
   "source": [
    "from collections import namedtuple"
   ]
  },
  {
   "cell_type": "code",
   "execution_count": 3,
   "metadata": {},
   "outputs": [],
   "source": [
    "DataIngestionConfig = namedtuple(\"DataIngestionConfig\", \n",
    "[\"dataset_download_url\",\"tgz_download_dir\",\"raw_data_dir\",\"ingested_train_dir\",\"ingested_test_dir\"])"
   ]
  },
  {
   "cell_type": "code",
   "execution_count": 7,
   "metadata": {},
   "outputs": [],
   "source": [
    "data_ingestion_config = DataIngestionConfig(dataset_download_url=\"asdf\",tgz_download_dir=\"jahsjjsn\",\n",
    "raw_data_dir=\"kjasnk\",ingested_train_dir=\"iuytyu\",ingested_test_dir=\"llpppjj\")"
   ]
  },
  {
   "cell_type": "code",
   "execution_count": 8,
   "metadata": {},
   "outputs": [
    {
     "data": {
      "text/plain": [
       "DataIngestionConfig(dataset_download_url='asdf', tgz_download_dir='jahsjjsn', raw_data_dir='kjasnk', ingested_train_dir='iuytyu', ingested_test_dir='llpppjj')"
      ]
     },
     "execution_count": 8,
     "metadata": {},
     "output_type": "execute_result"
    }
   ],
   "source": [
    "data_ingestion_config"
   ]
  },
  {
   "cell_type": "markdown",
   "metadata": {},
   "source": [
    "1. download url\n",
    "2. download folder (compressed file)\n",
    "3. extract folder (extracted file)\n",
    "4. Train dataset folder\n",
    "5. Test dataset folder"
   ]
  },
  {
   "cell_type": "code",
   "execution_count": null,
   "metadata": {},
   "outputs": [],
   "source": [
    "DataValidationConfig = namedtuple(\"DataValidationConfig\",[\"schema_file_path\"])\n",
    "\n"
   ]
  },
  {
   "cell_type": "markdown",
   "metadata": {},
   "source": [
    "scheme_file_path = structure of the columns, datatypes of cvolumns etc."
   ]
  },
  {
   "cell_type": "code",
   "execution_count": null,
   "metadata": {},
   "outputs": [],
   "source": [
    "DataTransformationConfig =  namedtuple(\"DataTransformationConfig\",[\"add_bedroom_per_room\",\n",
    "                                                                    \"transformed_train_dir\",\n",
    "                                                                    \"transformed_test_dir\",\n",
    "                                                                    \"preprocessed_object_file_path\"])\n",
    "\n"
   ]
  },
  {
   "cell_type": "markdown",
   "metadata": {},
   "source": [
    "After performing feature engineering, the train and test (\"ingested_train_dir\",\"ingested_test_dir\") are changed to  \"transformed_train_dir\" and \"transformed_test_dir\"\n",
    "\n",
    "\"preprocessed_object_file_path\" :- pickle file for the transformation component"
   ]
  },
  {
   "cell_type": "code",
   "execution_count": null,
   "metadata": {},
   "outputs": [],
   "source": [
    "ModelTrainerConfig = namedtuple(\"ModelTrainerConfig\",[\"trained_model_file_path\",\"base_accuracy\"])"
   ]
  },
  {
   "cell_type": "markdown",
   "metadata": {},
   "source": [
    "\"trained_model_file_path\" :- new model applied on the dataset and that has the base accurancy\n",
    "\"base_accuracy\" :- accuracy score was set prior so that the best model can be selected"
   ]
  },
  {
   "cell_type": "code",
   "execution_count": null,
   "metadata": {},
   "outputs": [],
   "source": [
    "ModelEvaluationConfig = namedtuple(\"ModelEvaluationConfig\",[\"model_evaluation_file_path\",\"time_stamp\"])"
   ]
  },
  {
   "cell_type": "markdown",
   "metadata": {},
   "source": [
    "\"model_evaluation_file_path\" :- path for the model available at production so that it can be compared with the current model. \n",
    "\"time_stamp\" :- At what time, we have compared the train model with the base model"
   ]
  },
  {
   "cell_type": "code",
   "execution_count": null,
   "metadata": {},
   "outputs": [],
   "source": [
    "ModelPusherConfig = namedtuple(\"ModelPusherConfig\",[\"export_dir_path\"])"
   ]
  },
  {
   "cell_type": "markdown",
   "metadata": {},
   "source": [
    "export_dir_path :- Where we are gonna push the trained model"
   ]
  }
 ],
 "metadata": {
  "kernelspec": {
   "display_name": "Python 3.7.0 (conda)",
   "language": "python",
   "name": "python3"
  },
  "language_info": {
   "codemirror_mode": {
    "name": "ipython",
    "version": 3
   },
   "file_extension": ".py",
   "mimetype": "text/x-python",
   "name": "python",
   "nbconvert_exporter": "python",
   "pygments_lexer": "ipython3",
   "version": "3.7.0"
  },
  "orig_nbformat": 4,
  "vscode": {
   "interpreter": {
    "hash": "0682cc12f55b1e1515fdf3e2dc586176bd308a62fd6a1a8a88d27fdaebb30949"
   }
  }
 },
 "nbformat": 4,
 "nbformat_minor": 2
}
